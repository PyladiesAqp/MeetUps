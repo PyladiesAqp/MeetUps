{
 "cells": [
  {
   "cell_type": "markdown",
   "metadata": {
    "slideshow": {
     "slide_type": "slide"
    }
   },
   "source": [
    "# Arrays de NumPy #  "
   ]
  },
  {
   "cell_type": "markdown",
   "metadata": {
    "slideshow": {
     "slide_type": "slide"
    }
   },
   "source": [
    "# ¿Qué es NumPy? #\n",
    "\n",
    " * Una biblioteca para Python: `ndarray` + `ufunc`\n",
    " * Los arrays multidimensionales (`ndarray`) nos permiten almacenar datos de manera estructurada\n",
    " * Las funciones universales (`ufunc`) nos permiten operar con esos datos de manera eficiente"
   ]
  },
  {
   "cell_type": "markdown",
   "metadata": {},
   "source": [
    "Python está organizado en módulos, que son archivos con extensión `.py` que contienen funciones, variables y otros objetos, y paquetes, que son conjuntos de módulos. Cuando queremos utilizar objetos que están definidos en un módulo tenemos que *importarlo*, y una vez que lo hemos hecho podemos usar el operador `.` para ir descendiendo en la jerarquía de paquetes y acceder al objeto que necesitamos. Por ejemplo, de esta manera importamos NumPy:"
   ]
  },
  {
   "cell_type": "code",
   "execution_count": 1,
   "metadata": {},
   "outputs": [
    {
     "name": "stderr",
     "output_type": "stream",
     "text": [
      "C:\\Users\\LENOVO\\Anaconda3\\lib\\site-packages\\ipykernel\\parentpoller.py:116: UserWarning: Parent poll failed.  If the frontend dies,\n",
      "                the kernel may be left running.  Please let us know\n",
      "                about your system (bitness, Python, etc.) at\n",
      "                ipython-dev@scipy.org\n",
      "  ipython-dev@scipy.org\"\"\")\n"
     ]
    }
   ],
   "source": [
    "import numpy"
   ]
  },
  {
   "cell_type": "markdown",
   "metadata": {},
   "source": [
    "La convención para importar NumPy siempre es esta:"
   ]
  },
  {
   "cell_type": "code",
   "execution_count": 2,
   "metadata": {
    "slideshow": {
     "slide_type": "fragment"
    }
   },
   "outputs": [],
   "source": [
    "import numpy as np"
   ]
  },
  {
   "cell_type": "markdown",
   "metadata": {},
   "source": [
    "Lo que hacemos es crear un *alias* al paquete NumPy de nombre `np`. Es simplemente una forma de abreviar el código. Esta forma de separar las funciones en paquetes (que se llaman **espacios de nombres** o *namespaces*) conduce a una mayor legibilidad del código y a la supresión de ambigüedades."
   ]
  },
  {
   "cell_type": "markdown",
   "metadata": {},
   "source": [
    "Para encontrar ayuda sobre cierto tema podemos usar la función `lookfor`: en donde especificaremos acerca de que necesitamos ayuda o informacion"
   ]
  },
  {
   "cell_type": "code",
   "execution_count": 4,
   "metadata": {},
   "outputs": [
    {
     "name": "stdout",
     "output_type": "stream",
     "text": [
      "Search results for 'solve'\n",
      "--------------------------\n",
      "numpy.linalg.solve\n",
      "    Solve a linear matrix equation, or system of linear scalar equations.\n",
      "numpy.linalg.lstsq\n",
      "    Return the least-squares solution to a linear matrix equation.\n",
      "numpy.linalg.tensorsolve\n",
      "    Solve the tensor equation ``a x = b`` for x.\n",
      "numpy.nditer.close\n",
      "    close()\n",
      "numpy.linalg._umath_linalg.solve\n",
      "    solve the system a x = b, on the last two dimensions, broadcast to the rest.\n",
      "numpy.linalg._umath_linalg.solve1\n",
      "    solve the system a x = b, for b being a vector, broadcast in the outer dimensions.\n",
      "numpy.distutils.misc_util.njoin\n",
      "    Join two or more pathname components +\n",
      "numpy.distutils.misc_util.minrelpath\n",
      "    Resolve `..` and '.' from path.\n",
      "numpy.distutils.system_info.UmfpackNotFoundError\n",
      "    UMFPACK sparse solver (http://www.cise.ufl.edu/research/sparse/umfpack/)\n",
      "numpy.shares_memory\n",
      "    Determine if two arrays share memory\n",
      "numpy.linalg.pinv\n",
      "    Compute the (Moore-Penrose) pseudo-inverse of a matrix.\n",
      "numpy.linalg.cholesky\n",
      "    Cholesky decomposition.\n",
      "numpy.linalg.tensorinv\n",
      "    Compute the 'inverse' of an N-dimensional array.\n",
      "numpy.chararray.setflags\n",
      "    Set array flags WRITEABLE, ALIGNED, (WRITEBACKIFCOPY and UPDATEIFCOPY),\n",
      "numpy.linalg.LinAlgError\n",
      "    Generic Python-exception-derived object raised by linalg functions.\n",
      "numpy.polynomial.Hermite._fit\n",
      "    Least squares fit of Hermite series to data.\n",
      "numpy.polynomial.HermiteE._fit\n",
      "    Least squares fit of Hermite series to data.\n",
      "numpy.polynomial.Laguerre._fit\n",
      "    Least squares fit of Laguerre series to data.\n",
      "numpy.polynomial.Legendre._fit\n",
      "    Least squares fit of Legendre series to data.\n",
      "numpy.polynomial.Chebyshev._fit\n",
      "    Least squares fit of Chebyshev series to data.\n",
      "numpy.polynomial.Polynomial._fit\n",
      "    Least-squares fit of a polynomial to data."
     ]
    }
   ],
   "source": [
    "np.lookfor(\"solve\")"
   ]
  },
  {
   "cell_type": "code",
   "execution_count": 5,
   "metadata": {},
   "outputs": [
    {
     "name": "stdout",
     "output_type": "stream",
     "text": [
      "Search results for 'exp'\n",
      "------------------------\n",
      "numpy.exp\n",
      "    Calculate the exponential of all elements in the input array.\n",
      "numpy.exp2\n",
      "    Calculate `2**p` for all `p` in the input array.\n",
      "numpy.expm1\n",
      "    Calculate ``exp(x) - 1`` for all elements in the array.\n",
      "numpy.frexp\n",
      "    Decompose the elements of x into mantissa and twos exponent.\n",
      "numpy.ldexp\n",
      "    Returns x1 * 2**x2, element-wise.\n",
      "numpy.logaddexp\n",
      "    Logarithm of the sum of exponentiations of the inputs.\n",
      "numpy.logaddexp2\n",
      "    Logarithm of the sum of exponentiations of the inputs in base-2.\n",
      "numpy.expand_dims\n",
      "    Expand the shape of an array.\n",
      "numpy.ma.exp\n",
      "    Calculate the exponential of all elements in the input array.\n",
      "numpy.fromregex\n",
      "    Construct an array from a text file, using regular expression parsing.\n",
      "numpy.safe_eval\n",
      "    Protected string evaluation.\n",
      "numpy.einsum_path\n",
      "    Evaluates the lowest cost contraction order for an einsum expression by\n",
      "numpy.ma.expand_dims\n",
      "    Expand the shape of an array.\n",
      "numpy.bytes0.expandtabs\n",
      "    Return a copy of B where all tab characters are expanded using spaces.\n",
      "numpy.str0.expandtabs\n",
      "    Return a copy where all tab characters are expanded using spaces.\n",
      "numpy.ctypeslib.as_ctypes\n",
      "    Create and return a ctypes object from a numpy array.  Actually\n",
      "numpy.ma.flatnotmasked_edges\n",
      "    Find the indices of the first and last unmasked values.\n",
      "numpy.testing.decorate_methods\n",
      "    Apply a decorator to all methods in a class matching a regular expression.\n",
      "numpy.testing.assert_raises_regex\n",
      "    assert_raises_regex(exception_class, expected_regexp, callable, *args,\n",
      "numpy.polynomial.Hermite.cast\n",
      "    Convert series to series of this class.\n",
      "numpy.polynomial.HermiteE.cast\n",
      "    Convert series to series of this class.\n",
      "numpy.polynomial.Laguerre.cast\n",
      "    Convert series to series of this class.\n",
      "numpy.polynomial.Legendre.cast\n",
      "    Convert series to series of this class.\n",
      "numpy.polynomial.Chebyshev.cast\n",
      "    Convert series to series of this class.\n",
      "numpy.f2py.crackfortran.postcrack\n",
      "    TODO:\n",
      "numpy.polynomial.Polynomial.cast\n",
      "    Convert series to series of this class.\n",
      "numpy.i0\n",
      "    Modified Bessel function of the first kind, order 0.\n",
      "numpy.polynomial.hermite.hermweight\n",
      "    Weight function of the Hermite polynomials.\n",
      "numpy.polynomial.laguerre.lagweight\n",
      "    Weight function of the Laguerre polynomials.\n",
      "numpy.all\n",
      "    Test whether all array elements along a given axis evaluate to True.\n",
      "numpy.any\n",
      "    Test whether any array element along a given axis evaluates to True.\n",
      "numpy.erf\n",
      "    Calculate the error function of all elements in the input array.\n",
      "numpy.irr\n",
      "    Return the Internal Rate of Return (IRR).\n",
      "numpy.log\n",
      "    Natural logarithm, element-wise.\n",
      "numpy.ptp\n",
      "    Range of values (maximum - minimum) along an axis.\n",
      "numpy.std\n",
      "    Compute the standard deviation along the specified axis.\n",
      "numpy.sum\n",
      "    Sum of array elements over a given axis.\n",
      "numpy.var\n",
      "    Compute the variance along the specified axis.\n",
      "numpy.amax\n",
      "    Return the maximum of an array or maximum along an axis.\n",
      "numpy.amin\n",
      "    Return the minimum of an array or minimum along an axis.\n",
      "numpy.bmat\n",
      "    Build a matrix object from a string, nested sequence, or array.\n",
      "numpy.cosh\n",
      "    Hyperbolic cosine, element-wise.\n",
      "numpy.in1d\n",
      "    Test whether each element of a 1-D array is also present in a second array.\n",
      "numpy.intc\n",
      "    Base class for numpy scalar types.\n",
      "numpy.isin\n",
      "    Calculates `element in test_elements`, broadcasting over `element` only.\n",
      "numpy.kron\n",
      "    Kronecker product of two arrays.\n",
      "numpy.log2\n",
      "    Base-2 logarithm of `x`.\n",
      "numpy.mean\n",
      "    Compute the arithmetic mean along the specified axis.\n",
      "numpy.prod\n",
      "    Return the product of array elements over a given axis.\n",
      "numpy.sinh\n",
      "    Hyperbolic sine, element-wise.\n",
      "numpy.str0\n",
      "    str(bytes_or_buffer[, encoding[, errors]]) -> str\n",
      "numpy.take\n",
      "    Take elements from an array along an axis.\n",
      "numpy.uint\n",
      "    Base class for numpy scalar types.\n",
      "numpy.void\n",
      "    Base class for numpy scalar types.\n",
      "numpy.array\n",
      "    Create an array.\n",
      "numpy.finfo\n",
      "    finfo(dtype)\n",
      "numpy.iinfo\n",
      "    iinfo(type)\n",
      "numpy.inner\n",
      "    Inner product of two arrays.\n",
      "numpy.log10\n",
      "    Return the base 10 logarithm of the input array, element-wise.\n",
      "numpy.log1p\n",
      "    Return the natural logarithm of one plus the input array, element-wise.\n",
      "numpy.polynomial.hermite_e.hermeweight\n",
      "    Weight function of the Hermite_e polynomials.\n",
      "numpy.power\n",
      "    First array elements raised to powers from second array, element-wise.\n",
      "numpy.savez\n",
      "    Save several arrays into a single file in uncompressed ``.npz`` format.\n",
      "numpy.ubyte\n",
      "    Base class for numpy scalar types.\n",
      "numpy.ufunc\n",
      "    Functions that operate element by element on whole arrays.\n",
      "numpy.MachAr\n",
      "    Diagnosing machine parameters.\n",
      "numpy.uint0\n",
      "    Base class for numpy scalar types.\n",
      "numpy.uintc\n",
      "    Base class for numpy scalar types.\n",
      "numpy.arccos\n",
      "    Trigonometric inverse cosine, element-wise.\n",
      "numpy.arcsin\n",
      "    Inverse sine, element-wise.\n",
      "numpy.arctan\n",
      "    Trigonometric inverse tangent, element-wise.\n",
      "numpy.around\n",
      "    Evenly round to the given number of decimals.\n",
      "numpy.cumsum\n",
      "    Return the cumulative sum of the elements along a given axis.\n",
      "numpy.einsum\n",
      "    einsum(subscripts, *operands, out=None, dtype=None, order='K',\n",
      "numpy.median\n",
      "    Compute the median along the specified axis.\n",
      "numpy.nanmax\n",
      "    Return the maximum of an array or maximum along an axis, ignoring any\n",
      "numpy.nanmin\n",
      "    Return minimum of an array or minimum along an axis, ignoring any NaNs.\n",
      "numpy.nanstd\n",
      "    Compute the standard deviation along the specified axis, while\n",
      "numpy.nansum\n",
      "    Return the sum of array elements over a given axis treating Not a\n",
      "numpy.nanvar\n",
      "    Compute the variance along the specified axis, while ignoring NaNs.\n",
      "numpy.nditer\n",
      "    Efficient multi-dimensional iterator object to iterate over arrays.\n",
      "numpy.number\n",
      "    Base class for numpy scalar types.\n",
      "numpy.seterr\n",
      "    Set how floating-point errors are handled.\n",
      "numpy.uint16\n",
      "    Base class for numpy scalar types.\n",
      "numpy.arccosh\n",
      "    Inverse hyperbolic cosine, element-wise.\n",
      "numpy.arcsinh\n",
      "    Inverse hyperbolic sine element-wise.\n",
      "numpy.arctanh\n",
      "    Inverse hyperbolic tangent element-wise.\n",
      "numpy.cumprod\n",
      "    Return the cumulative product of elements along a given axis.\n",
      "numpy.float16\n",
      "    Base class for numpy scalar types.\n",
      "numpy.generic\n",
      "    Base class for numpy scalar types.\n",
      "numpy.indices\n",
      "    Return an array representing the indices of a grid.\n",
      "numpy.inexact\n",
      "    Base class for numpy scalar types.\n",
      "numpy.integer\n",
      "    Base class for numpy scalar types.\n",
      "numpy.isclose\n",
      "    Returns a boolean array where two arrays are element-wise equal within a\n",
      "numpy.nanmean\n",
      "    Compute the arithmetic mean along the specified axis, ignoring NaNs.\n",
      "numpy.nanprod\n",
      "    Return the product of array elements over a given axis treating Not a\n",
      "numpy.ndarray\n",
      "    ndarray(shape, dtype=float, buffer=None, offset=0,\n",
      "numpy.savetxt\n",
      "    Save an array to a text file.\n",
      "numpy.squeeze\n",
      "    Remove single-dimensional entries from the shape of an array.\n",
      "numpy.convolve\n",
      "    Returns the discrete, linear convolution of two one-dimensional sequences.\n",
      "numpy.diagonal\n",
      "    Return specified diagonals.\n",
      "numpy.flexible\n",
      "    Base class for numpy scalar types.\n",
      "numpy.floating\n",
      "    Base class for numpy scalar types.\n",
      "numpy.gradient\n",
      "    Return the gradient of an N-dimensional array.\n",
      "numpy.quantile\n",
      "    Compute the `q`th quantile of the data along the specified axis.\n",
      "numpy.recarray\n",
      "    Construct an ndarray that allows field access using attributes.\n",
      "numpy.character\n",
      "    Base class for numpy scalar types.\n",
      "numpy.chararray\n",
      "    chararray(shape, itemsize=1, unicode=False, buffer=None, offset=0,\n",
      "numpy.deprecate\n",
      "    Issues a DeprecationWarning, adds warning to `old_name`'s\n",
      "numpy.nancumsum\n",
      "    Return the cumulative sum of array elements over a given axis treating Not a\n",
      "numpy.nanmedian\n",
      "    Compute the median along the specified axis, while ignoring NaNs.\n",
      "numpy.distutils.mingw32ccompiler.generate_def\n",
      "    Given a dll file location,  get all its exported symbols and dump them\n",
      "numpy.vectorize\n",
      "    vectorize(pyfunc, otypes=None, doc=None, excluded=None, cache=False,\n",
      "numpy.datetime64\n",
      "    Base class for numpy scalar types.\n",
      "numpy.frombuffer\n",
      "    Interpret a buffer as a 1-dimensional array.\n",
      "numpy.longdouble\n",
      "    Base class for numpy scalar types.\n",
      "numpy.nancumprod\n",
      "    Return the cumulative product of array elements over a given axis treating Not a\n",
      "numpy.percentile\n",
      "    Compute the qth percentile of the data along the specified axis.\n",
      "numpy.concatenate\n",
      "    Join a sequence of arrays along an existing axis.\n",
      "numpy.float_power\n",
      "    First array elements raised to powers from second array, element-wise.\n",
      "numpy.histogram2d\n",
      "    Compute the bi-dimensional histogram of two data samples.\n",
      "numpy.histogramdd\n",
      "    Compute the multidimensional histogram of some data.\n",
      "numpy.nanquantile\n",
      "    Compute the qth quantile of the data along the specified axis,\n",
      "numpy.timedelta64\n",
      "    Base class for numpy scalar types.\n",
      "numpy.ma.log\n",
      "    Natural logarithm, element-wise.\n",
      "numpy.ma.max\n",
      "    Return the maximum along a given axis.\n",
      "numpy.ma.min\n",
      "    Return the minimum along a given axis.\n",
      "numpy.ma.ptp\n",
      "    Return (maximum - minimum) along the given dimension\n",
      "numpy.ma.var\n",
      "    Compute the variance along the specified axis.\n",
      "numpy.ma.cosh\n",
      "    Hyperbolic cosine, element-wise.\n",
      "numpy.ma.log2\n",
      "    Base-2 logarithm of `x`.\n",
      "numpy.ma.sinh\n",
      "    Hyperbolic sine, element-wise.\n",
      "numpy.nanpercentile\n",
      "    Compute the qth percentile of the data along the specified axis,\n",
      "numpy.signedinteger\n",
      "    Base class for numpy scalar types.\n",
      "numpy.ma.inner\n",
      "    Inner product of two arrays.\n",
      "numpy.ma.log10\n",
      "    Return the base 10 logarithm of the input array, element-wise.\n",
      "numpy.put_along_axis\n",
      "    Put values into the destination array by matching 1d index and data slices.\n",
      "numpy.linalg.qr\n",
      "    Compute the qr factorization of a matrix.\n",
      "numpy.ma.arccos\n",
      "    Trigonometric inverse cosine, element-wise.\n",
      "numpy.ma.arcsin\n",
      "    Inverse sine, element-wise.\n",
      "numpy.ma.arctan\n",
      "    Trigonometric inverse tangent, element-wise.\n",
      "numpy.ma.median\n",
      "    Compute the median along the specified axis.\n",
      "numpy.complexfloating\n",
      "    Base class for numpy scalar types.\n",
      "numpy.linalg.svd\n",
      "    Singular Value Decomposition.\n",
      "numpy.ma.arccosh\n",
      "    Inverse hyperbolic cosine, element-wise.\n",
      "numpy.ma.arcsinh\n",
      "    Inverse hyperbolic sine element-wise.\n",
      "numpy.ma.arctanh\n",
      "    Inverse hyperbolic tangent element-wise.\n",
      "numpy.ma.argsort\n",
      "    Return an ndarray of indices that sort the array along the\n",
      "numpy.take_along_axis\n",
      "    Take values from the input array by matching 1d index and data slices.\n",
      "numpy.unsignedinteger\n",
      "    Base class for numpy scalar types.\n",
      "numpy.apply_along_axis\n",
      "    Apply a function to 1-D slices along the given axis.\n",
      "numpy.matrix.any\n",
      "    Test whether any array element along a given axis evaluates to True.\n",
      "numpy.savez_compressed\n",
      "    Save several arrays into a single file in compressed ``.npz`` format.\n",
      "numpy.ma.compress\n",
      "    Return `a` where condition is ``True``.\n",
      "numpy.chararray.expandtabs\n",
      "    Return a copy of each string element where all tab characters are\n",
      "numpy.ma.frombuffer\n",
      "    Interpret a buffer as a 1-dimensional array.\n",
      "numpy.linalg.slogdet\n",
      "    Compute the sign and (natural) logarithm of the determinant of an array.\n",
      "numpy.set_string_function\n",
      "    Set a Python function to be used when pretty printing arrays.\n",
      "numpy.chararray.tofile\n",
      "    Write array to a file as text or binary (default).\n",
      "numpy.chararray.setflags\n",
      "    Set array flags WRITEABLE, ALIGNED, (WRITEBACKIFCOPY and UPDATEIFCOPY),\n",
      "numpy.distutils.fcompiler.FCompiler.add_link_object\n",
      "    Add 'object' to the list of object files (or analogues, such as\n",
      "numpy.format_float_scientific\n",
      "    Format a floating-point scalar as a decimal string in scientific notation.\n",
      "numpy.linalg.matrix_rank\n",
      "    Return matrix rank of array using SVD method\n",
      "numpy.linalg.matrix_power\n",
      "    Raise a square matrix to the (integer) power `n`.\n",
      "numpy.ma.apply_along_axis\n",
      "    Apply a function to 1-D slices along the given axis.\n",
      "numpy.distutils.system_info.Numeric_info._check_libs\n",
      "    Find mandatory and optional libs in expected paths.\n",
      "numpy.tests.test_warnings.FindFuncs.generic_visit\n",
      "    Called if no explicit visitor function exists for a node.\n",
      "numpy.ctypeslib.load_library\n",
      "    It is possible to load a library using\n",
      "numpy.distutils.command.install.install.expand_dirs\n",
      "    Calls `os.path.expanduser` on install dirs.\n",
      "numpy.distutils.command.develop.develop.expand_dirs\n",
      "    Calls `os.path.expanduser` on install dirs.\n",
      "numpy.testing.assert_equal\n",
      "    Raises an AssertionError if two objects are not equal.\n",
      "numpy.testing.assert_warns\n",
      "    Fail unless the given callable throws the specified warning.\n",
      "numpy.fft.fftpack.fft\n",
      "    Compute the one-dimensional discrete Fourier Transform.\n",
      "numpy.testing.assert_raises\n",
      "    assert_raises(exception_class)\n",
      "numpy.fft.fftpack.fftn\n",
      "    Compute the N-dimensional discrete Fourier Transform.\n",
      "numpy.fft.fftpack.ifft\n",
      "    Compute the one-dimensional inverse discrete Fourier Transform.\n",
      "numpy.fft.fftpack.rfft\n",
      "    Compute the one-dimensional discrete Fourier Transform for real input.\n",
      "numpy.linalg.tests.test_linalg.LinalgCase.check\n",
      "    Run the function `do` on this test case, expanding arguments\n",
      "numpy.fft.fftpack.ifftn\n",
      "    Compute the N-dimensional inverse discrete Fourier Transform.\n",
      "numpy.fft.fftpack.irfft\n",
      "    Compute the inverse of the n-point DFT for real input.\n",
      "numpy.fft.fftpack.rfftn\n",
      "    Compute the N-dimensional discrete Fourier Transform for real input.\n",
      "numpy.testing._private.noseclasses.NumpyOutputChecker\n",
      "    A class used to check the whether the actual output from a doctest\n",
      "numpy.fft.fftpack.irfftn\n",
      "    Compute the inverse of the N-dimensional FFT of real input.\n",
      "numpy.ma.MaskedArray.max\n",
      "    Return the maximum along a given axis.\n",
      "numpy.ma.MaskedArray.min\n",
      "    Return the minimum along a given axis.\n",
      "numpy.ma.MaskedArray.ptp\n",
      "    Return (maximum - minimum) along the given dimension\n",
      "numpy.ma.MaskedArray.var\n",
      "    Compute the variance along the specified axis.\n",
      "numpy.distutils.command.install.install.expand_basedirs\n",
      "    Calls `os.path.expanduser` on install_base, install_platbase and\n",
      "numpy.distutils.command.develop.develop.expand_basedirs\n",
      "    Calls `os.path.expanduser` on install_base, install_platbase and\n",
      "numpy.testing.suppress_warnings\n",
      "    Context manager and decorator doing much the same as\n",
      "numpy.testing.assert_array_equal\n",
      "    Raises an AssertionError if two array_like objects are not equal.\n",
      "numpy.testing.print_assert_equal\n",
      "    Test if two objects are equal, and print an error message if test fails.\n",
      "numpy.testing.assert_almost_equal\n",
      "    Raises an AssertionError if two items are not equal up to desired\n",
      "numpy.testing.assert_approx_equal\n",
      "    Raises an AssertionError if two items are not equal up to significant\n",
      "numpy.testing.assert_string_equal\n",
      "    Test if two strings are equal.\n",
      "numpy.ma.MaskedArray.argsort\n",
      "    Return an ndarray of indices that sort the array along the\n",
      "numpy.ma.MaskedArray.compress\n",
      "    Return `a` where condition is ``True``.\n",
      "numpy.distutils.numpy_distribution.NumpyDistribution._show_help\n",
      "    Show help for the setup script command-line in the form of\n",
      "numpy.polynomial.Hermite._div\n",
      "    Divide one Hermite series by another.\n",
      "numpy.polynomial.Hermite._int\n",
      "    Integrate a Hermite series.\n",
      "numpy.polynomial.Hermite._mul\n",
      "    Multiply one Hermite series by another.\n",
      "numpy.polynomial.HermiteE._div\n",
      "    Divide one Hermite series by another.\n",
      "numpy.polynomial.HermiteE._int\n",
      "    Integrate a Hermite_e series.\n",
      "numpy.polynomial.HermiteE._mul\n",
      "    Multiply one Hermite series by another.\n",
      "numpy.polynomial.Laguerre._div\n",
      "    Divide one Laguerre series by another.\n",
      "numpy.polynomial.Laguerre._int\n",
      "    Integrate a Laguerre series.\n",
      "numpy.polynomial.Laguerre._mul\n",
      "    Multiply one Laguerre series by another.\n",
      "numpy.polynomial.Legendre._div\n",
      "    Divide one Legendre series by another.\n",
      "numpy.polynomial.Legendre._int\n",
      "    Integrate a Legendre series.\n",
      "numpy.polynomial.Legendre._mul\n",
      "    Multiply one Legendre series by another.\n",
      "numpy.distutils.command.build_ext.build_ext.get_export_symbols\n",
      "    Return the list of symbols that a shared extension has to\n",
      "numpy.polynomial.Chebyshev._div\n",
      "    Divide one Chebyshev series by another.\n",
      "numpy.polynomial.Chebyshev._int\n",
      "    Integrate a Chebyshev series.\n",
      "numpy.polynomial.Chebyshev._mul\n",
      "    Multiply one Chebyshev series by another.\n",
      "numpy.polynomial.Polynomial._fit\n",
      "    Least-squares fit of a polynomial to data.\n",
      "numpy.polynomial.Polynomial._int\n",
      "    Integrate a polynomial.\n",
      "numpy.distutils.extension.Extension\n",
      "    Just a collection of attributes that describes an extension\n",
      "numpy.testing.assert_array_almost_equal\n",
      "    Raises an AssertionError if two objects are not equal up to desired\n",
      "numpy.polynomial.hermite.hermgauss\n",
      "    Gauss-Hermite quadrature.\n",
      "numpy.polynomial.laguerre.laggauss\n",
      "    Gauss-Laguerre quadrature.\n",
      "numpy.lib._iotools.ConversionWarning\n",
      "    Warning issued when a string converter has a problem.\n",
      "numpy.lib.format._write_array_header\n",
      "    Write the header for an array and returns the version used\n",
      "numpy.polynomial.polyutils.getdomain\n",
      "    Return a domain suitable for given abscissae.\n",
      "numpy.testing._private.noseclasses.NumpyDocTestCase.assertTrue\n",
      "    Check that the expression is true.\n",
      "numpy.polynomial.hermite_e.hermegauss\n",
      "    Gauss-HermiteE quadrature.\n",
      "numpy.testing._private.noseclasses.NumpyDocTestCase.assertRegex\n",
      "    Fail the test unless the text matches the regular expression.\n",
      "numpy.testing._private.noseclasses.NumpyDocTestCase.assertFalse\n",
      "    Check that the expression is false.\n",
      "numpy.lib.tests.test_io.TextIO\n",
      "    Helper IO class.\n",
      "numpy.testing.suppress_warnings.filter\n",
      "    Add a new suppressing filter or apply it if the state is entered.\n",
      "numpy.testing._private.noseclasses.NumpyDocTestCase.assertRaises\n",
      "    Fail unless an exception of class expected_exception is raised\n",
      "numpy.testing.suppress_warnings.record\n",
      "    Append a new recording filter or apply it if the state is entered.\n",
      "numpy.testing._private.noseclasses.NumpyOutputChecker.check_output\n",
      "    Return True iff the actual output from an example (`got`)\n",
      "numpy.testing._private.noseclasses.NumpyDocTestCase.assertNotRegex\n",
      "    Fail the test if the text matches the regular expression.\n",
      "numpy.testing._private.noseclasses.NumpyDocTestCase._formatMessage\n",
      "    Honour the longMessage attribute when generating failure messages.\n",
      "numpy.lib.tests.test__iotools.TestStringConverter.test_keep_default\n",
      "    Make sure we don't lose an explicit default\n",
      "numpy.testing._private.noseclasses.NumpyDocTestCase.assertWarnsRegex\n",
      "    Asserts that the message in a triggered warning matches a regexp.\n",
      "numpy.distutils.ccompiler.simple_version_match\n",
      "    Simple matching of version numbers, for use in CCompiler and FCompiler.\n",
      "numpy.distutils.fcompiler.FCompiler.link\n",
      "    Link a bunch of stuff together to create an executable or\n",
      "numpy.testing._private.noseclasses.NumpyOutputChecker.output_difference\n",
      "    Return a string describing the differences between the\n",
      "numpy.lib._iotools.NameValidator.validate\n",
      "    Validate a list of strings as field names for a structured array.\n",
      "numpy.ma.tests.test_subclassing.SubArray\n",
      "    ndarray(shape, dtype=float, buffer=None, offset=0,\n",
      "numpy.core.tests.test_umath._check_branch_cut\n",
      "    Check for a branch cut in a function.\n",
      "numpy.distutils.numpy_distribution.NumpyDistribution\n",
      "    The core of the Distutils.  Most of the work hiding behind 'setup'\n",
      "numpy.distutils.fcompiler.FCompiler.define_macro\n",
      "    Define a preprocessor macro for all compilations driven by this\n",
      "numpy.distutils.intelccompiler.IntelCCompiler.link\n",
      "    Link a bunch of stuff together to create an executable or\n",
      "numpy.core.tests.test_function_base.PhysicalQuantity2\n",
      "    ndarray(shape, dtype=float, buffer=None, offset=0,\n",
      "numpy.distutils.intelccompiler.IntelCCompilerW.link\n",
      "    Link a bunch of stuff together to create an executable or\n",
      "numpy.lib.tests.test_stride_tricks.SimpleSubClass\n",
      "    ndarray(shape, dtype=float, buffer=None, offset=0,\n",
      "numpy.distutils.misc_util.Configuration.add_extension\n",
      "    Add extension to configuration.\n",
      "numpy.testing._private.parameterized.parameterized\n",
      "    Parameterize a test case::\n",
      "numpy.ma.tests.test_subclassing.ComplicatedSubArray\n",
      "    ndarray(shape, dtype=float, buffer=None, offset=0,\n",
      "numpy.lib.tests.test_stride_tricks.VerySimpleSubClass\n",
      "    ndarray(shape, dtype=float, buffer=None, offset=0,\n",
      "numpy.testing._private.nosetester.NoseTester.test\n",
      "    Run tests for module using nose.\n",
      "numpy.testing._private.nosetester.NoseTester.bench\n",
      "    Run benchmarks for module using nose.\n",
      "numpy.ma.tests.test_core.suppress_copy_mask_on_assignment\n",
      "    Context manager and decorator doing much the same as\n",
      "numpy.core.tests.test_ufunc.TestUfunc.test_all_ufunc\n",
      "    Try to check presence and results of all ufuncs.\n",
      "numpy.core.tests.test_numeric.TestKeepdims.sub_array\n",
      "    ndarray(shape, dtype=float, buffer=None, offset=0,\n",
      "numpy.core.tests.test_multiarray.TestArrayPriority.Bar\n",
      "    ndarray(shape, dtype=float, buffer=None, offset=0,\n",
      "numpy.core.tests.test_multiarray.TestArrayPriority.Foo\n",
      "    ndarray(shape, dtype=float, buffer=None, offset=0,\n",
      "numpy.testing._private.pytesttester.PytestTester.__call__\n",
      "    Run tests for module using pytest.\n",
      "numpy.testing._private.noseclasses.NumpyDocTestCase.debug\n",
      "    Run the test case without results and without catching exceptions\n",
      "numpy.distutils.numpy_distribution.NumpyDistribution.get_command_class\n",
      "    Return the class that implements the Distutils command named by\n",
      "numpy.distutils.command.develop.develop.create_index.__init__\n",
      "    Snapshot distributions available on a search path\n",
      "numpy.testing._private.noseclasses.NumpyDocTestCase.assertRaisesRegex\n",
      "    Asserts that the message in a raised exception matches a regex.\n",
      "numpy.testing._private.noseclasses.NumpyDocTestCase.assertSequenceEqual\n",
      "    An equality assertion for ordered sequences (like lists and tuples).\n",
      "numpy.core.tests.test_deprecations.TestArrayDataAttributeAssignmentDeprecation.assert_deprecated\n",
      "    Test if DeprecationWarnings are given and raised."
     ]
    }
   ],
   "source": [
    "np.lookfor(\"exp\")"
   ]
  },
  {
   "cell_type": "markdown",
   "metadata": {},
   "source": [
    "## Constantes y funciones matemáticas"
   ]
  },
  {
   "cell_type": "markdown",
   "metadata": {},
   "source": [
    "Además de arrays, NumPy contiene también constantes y funciones matemáticas de uso cotidiano."
   ]
  },
  {
   "cell_type": "markdown",
   "metadata": {},
   "source": [
    "**exponencial**"
   ]
  },
  {
   "cell_type": "code",
   "execution_count": 3,
   "metadata": {},
   "outputs": [
    {
     "data": {
      "text/plain": [
       "2.718281828459045"
      ]
     },
     "execution_count": 3,
     "metadata": {},
     "output_type": "execute_result"
    }
   ],
   "source": [
    "np.e"
   ]
  },
  {
   "cell_type": "markdown",
   "metadata": {},
   "source": [
    "**pi**"
   ]
  },
  {
   "cell_type": "code",
   "execution_count": null,
   "metadata": {},
   "outputs": [],
   "source": []
  },
  {
   "cell_type": "markdown",
   "metadata": {},
   "source": [
    "El logaritmo de algun numero"
   ]
  },
  {
   "cell_type": "code",
   "execution_count": null,
   "metadata": {},
   "outputs": [],
   "source": []
  },
  {
   "cell_type": "markdown",
   "metadata": {
    "slideshow": {
     "slide_type": "slide"
    }
   },
   "source": [
    "## ¿Qué es exactamente un array?\n",
    "\n",
    "Un array de NumPy es una colección de `N` elementos, igual que una secuencia de Python (por ejemplo, una lista). Tiene las mismas propiedades que una secuencia y alguna más. Para crear un array, la forma más directa es pasarle una secuencia a la función `np.array`."
   ]
  },
  {
   "cell_type": "code",
   "execution_count": null,
   "metadata": {},
   "outputs": [],
   "source": []
  },
  {
   "cell_type": "markdown",
   "metadata": {},
   "source": [
    "Los arrays de NumPy son *homogéneos*, es decir, todos sus elementos son del mismo tipo. Si le pasamos a `np.array` una secuencia con objetos de tipos diferentes, promocionará todos al tipo con más información. Para acceder al tipo del array, podemos usar el atributo `dtype`."
   ]
  },
  {
   "cell_type": "code",
   "execution_count": 4,
   "metadata": {},
   "outputs": [
    {
     "name": "stdout",
     "output_type": "stream",
     "text": [
      "float64\n"
     ]
    }
   ],
   "source": [
    "a = np.array([1, 2, 3.0])\n",
    "print(a.dtype)"
   ]
  },
  {
   "cell_type": "code",
   "execution_count": 5,
   "metadata": {},
   "outputs": [
    {
     "data": {
      "text/plain": [
       "array(['1', '2', '3'], dtype='<U11')"
      ]
     },
     "execution_count": 5,
     "metadata": {},
     "output_type": "execute_result"
    }
   ],
   "source": [
    "np.array([1, 2, \"3\"])"
   ]
  },
  {
   "cell_type": "markdown",
   "metadata": {},
   "source": [
    "<div class=\"alert alert-warning\">**Nota**: Si NumPy no entiende el tipo de datos o construimos un array con argumentos incorrectos devolverá un array con `dtype` `object`. Estos arrays rara vez son útiles y su aparición suele ser signo de que algo falla en nuestro programa.</div>"
   ]
  },
  {
   "cell_type": "markdown",
   "metadata": {
    "slideshow": {
     "slide_type": "notes"
    }
   },
   "source": [
    "NumPy intentará automáticamente construir un array con el tipo adecuado teniendo en cuenta los datos de entrada, aunque nosotros podemos forzarlo, con el comando  dtype= Tipo de dato deseado"
   ]
  },
  {
   "cell_type": "markdown",
   "metadata": {
    "slideshow": {
     "slide_type": "fragment"
    }
   },
   "source": [
    "De entero a flotante"
   ]
  },
  {
   "cell_type": "code",
   "execution_count": 8,
   "metadata": {},
   "outputs": [],
   "source": [
    "ab=np.array([1, 2, 3], dtype=float)"
   ]
  },
  {
   "cell_type": "code",
   "execution_count": 7,
   "metadata": {},
   "outputs": [
    {
     "data": {
      "text/plain": [
       "array([1.+0.j, 2.+0.j, 3.+0.j])"
      ]
     },
     "execution_count": 7,
     "metadata": {},
     "output_type": "execute_result"
    }
   ],
   "source": [
    "np.array([1,2,3],dtype=complex)"
   ]
  },
  {
   "cell_type": "markdown",
   "metadata": {},
   "source": [
    "También podemos convertir un array de un tipo a otro utilizando el método `.astype`( tipo de dato a convertir)."
   ]
  },
  {
   "cell_type": "code",
   "execution_count": 9,
   "metadata": {},
   "outputs": [
    {
     "data": {
      "text/plain": [
       "array([1.+0.j, 2.+0.j, 3.+0.j])"
      ]
     },
     "execution_count": 9,
     "metadata": {},
     "output_type": "execute_result"
    }
   ],
   "source": [
    "ab.astype(complex)"
   ]
  },
  {
   "cell_type": "code",
   "execution_count": null,
   "metadata": {},
   "outputs": [],
   "source": []
  },
  {
   "cell_type": "markdown",
   "metadata": {
    "slideshow": {
     "slide_type": "slide"
    }
   },
   "source": [
    "## Motivo: eficiencia\n",
    "\n",
    "* Los bucles son costosos\n",
    "* Eliminar bucles: **vectorizar** operaciones\n",
    "* Los bucles se ejecutan en Python, las operaciones vectorizadas en C\n",
    "* Las operaciones entre arrays de NumPy se realizan **elemento a elemento**\n",
    "\n",
    "Ejemplo:\n",
    "\n",
    "$$ a_{ij} = b_{ij} + c_{ij} $$"
   ]
  },
  {
   "cell_type": "code",
   "execution_count": 6,
   "metadata": {},
   "outputs": [],
   "source": [
    "N, M = 100, 100\n",
    "A = np.empty(10000).reshape(N, M)\n",
    "B = np.random.rand(10000).reshape(N, M)\n",
    "C = np.random.rand(10000).reshape(N, M)"
   ]
  },
  {
   "cell_type": "code",
   "execution_count": 7,
   "metadata": {},
   "outputs": [
    {
     "name": "stdout",
     "output_type": "stream",
     "text": [
      "5.8 ms ± 140 µs per loop (mean ± std. dev. of 7 runs, 100 loops each)\n"
     ]
    }
   ],
   "source": [
    "%%timeit\n",
    "for i in range(N):\n",
    "    for j in range(M):\n",
    "        A[i, j] = B[i, j] + C[i, j]"
   ]
  },
  {
   "cell_type": "code",
   "execution_count": 8,
   "metadata": {},
   "outputs": [
    {
     "name": "stdout",
     "output_type": "stream",
     "text": [
      "8.4 µs ± 66.2 ns per loop (mean ± std. dev. of 7 runs, 100000 loops each)\n"
     ]
    }
   ],
   "source": [
    "%%timeit\n",
    "A = B + C"
   ]
  },
  {
   "cell_type": "markdown",
   "metadata": {},
   "source": [
    "¡1000 veces más rápido! Se hace fundamental **vectorizar** las operaciones y aprovechar al máximo la velocidad de NumPy."
   ]
  },
  {
   "cell_type": "markdown",
   "metadata": {},
   "source": [
    "## Indexación de arrays"
   ]
  },
  {
   "cell_type": "markdown",
   "metadata": {},
   "source": [
    "Una de las herramientas más importantes a la hora de trabajar con arrays es el indexado. Consiste en seleccionar elementos aislados o secciones de un array. Nosotros vamos a ver la indexación básica, pero existen técnicas de indexación avanzada que convierten los arrays en herramientas potentísimas."
   ]
  },
  {
   "cell_type": "code",
   "execution_count": 11,
   "metadata": {},
   "outputs": [
    {
     "data": {
      "text/plain": [
       "array([[1, 2, 3],\n",
       "       [4, 5, 6]])"
      ]
     },
     "execution_count": 11,
     "metadata": {},
     "output_type": "execute_result"
    }
   ],
   "source": [
    "A = np.array([\n",
    "    [1, 2, 3],\n",
    "    [4, 5, 6]\n",
    "])\n",
    "A"
   ]
  },
  {
   "cell_type": "markdown",
   "metadata": {},
   "source": [
    "Los índices se indican entre corchetes justo después del array. Recuerda que en Python la indexación empieza en 0. Si recuperamos el primer elemento de un array de dos dimensiones, obtenemos la primera fila."
   ]
  },
  {
   "cell_type": "code",
   "execution_count": 19,
   "metadata": {},
   "outputs": [
    {
     "data": {
      "text/plain": [
       "array([1, 2, 3])"
      ]
     },
     "execution_count": 19,
     "metadata": {},
     "output_type": "execute_result"
    }
   ],
   "source": [
    "A[0]"
   ]
  },
  {
   "cell_type": "markdown",
   "metadata": {},
   "source": [
    "En vez de usar `a[0][0]` para recuperar el primer elemento de la primera fila, podemos abreviar aún más la sintaxis:"
   ]
  },
  {
   "cell_type": "code",
   "execution_count": 20,
   "metadata": {},
   "outputs": [
    {
     "data": {
      "text/plain": [
       "1"
      ]
     },
     "execution_count": 20,
     "metadata": {},
     "output_type": "execute_result"
    }
   ],
   "source": [
    "A[0, 0]"
   ]
  },
  {
   "cell_type": "markdown",
   "metadata": {},
   "source": [
    "No solo podemos recuperar un elemento aislado, sino también porciones del array, utilizando la sintaxis `[<inicio>:<final>:<salto>]`."
   ]
  },
  {
   "cell_type": "code",
   "execution_count": null,
   "metadata": {},
   "outputs": [],
   "source": [
    "A[0, 1:3]"
   ]
  },
  {
   "cell_type": "code",
   "execution_count": 14,
   "metadata": {},
   "outputs": [
    {
     "data": {
      "text/plain": [
       "array([4, 6])"
      ]
     },
     "execution_count": 14,
     "metadata": {},
     "output_type": "execute_result"
    }
   ],
   "source": [
    "A[1, ::2]\n"
   ]
  },
  {
   "cell_type": "markdown",
   "metadata": {},
   "source": [
    "Tambien podemos reealizar cortes de la matriz\n"
   ]
  },
  {
   "cell_type": "code",
   "execution_count": 15,
   "metadata": {},
   "outputs": [
    {
     "data": {
      "text/plain": [
       "array([[1, 2, 3],\n",
       "       [2, 4, 6]])"
      ]
     },
     "execution_count": 15,
     "metadata": {},
     "output_type": "execute_result"
    }
   ],
   "source": [
    "matriz=np.array([(1,2,3),(2,4,6)])\n",
    "matriz"
   ]
  },
  {
   "cell_type": "code",
   "execution_count": 17,
   "metadata": {},
   "outputs": [
    {
     "data": {
      "text/plain": [
       "array([[2, 3],\n",
       "       [4, 6]])"
      ]
     },
     "execution_count": 17,
     "metadata": {},
     "output_type": "execute_result"
    }
   ],
   "source": [
    "matriz[0:2,1:3]"
   ]
  },
  {
   "cell_type": "markdown",
   "metadata": {
    "slideshow": {
     "slide_type": "slide"
    }
   },
   "source": [
    "## Creación de arrays\n",
    "\n",
    "Muchos métodos y muy variados\n",
    "\n",
    "* A partir de datos existentes: `array`, `copy`\n",
    "* Unos y ceros: `empty`, `eye`, `ones`, `zeros`, `*_like`\n",
    "* Rangos: `arange`, `linspace`, `logspace`, `meshgrid`\n",
    "* Aleatorios: `rand`, `randn`"
   ]
  },
  {
   "cell_type": "code",
   "execution_count": null,
   "metadata": {},
   "outputs": [],
   "source": []
  },
  {
   "cell_type": "code",
   "execution_count": null,
   "metadata": {},
   "outputs": [],
   "source": []
  },
  {
   "cell_type": "code",
   "execution_count": null,
   "metadata": {},
   "outputs": [],
   "source": []
  },
  {
   "cell_type": "code",
   "execution_count": null,
   "metadata": {},
   "outputs": [],
   "source": []
  },
  {
   "cell_type": "markdown",
   "metadata": {
    "slideshow": {
     "slide_type": "slide"
    }
   },
   "source": [
    "### Unos y ceros\n",
    "\n",
    "* `empty(shape)` crea un array con «basura», equivalente a no inicializarlo, ligeramente más rápido que `zeros` o `ones`\n",
    "* `eye(N, M=None, k=0)` crea un array con unos en una diagonal y ceros en el resto\n",
    "* `identity(n)` devuelve la matriz identidad\n",
    "* Las funciones `*_like(a)` construyen arrays con el mismo tamaño que uno dado"
   ]
  },
  {
   "cell_type": "code",
   "execution_count": 23,
   "metadata": {},
   "outputs": [
    {
     "data": {
      "text/plain": [
       "array([[1, 0, 0, 0, 0],\n",
       "       [0, 1, 0, 0, 0],\n",
       "       [0, 0, 1, 0, 0],\n",
       "       [0, 0, 0, 1, 0],\n",
       "       [0, 0, 0, 0, 1]])"
      ]
     },
     "execution_count": 23,
     "metadata": {},
     "output_type": "execute_result"
    }
   ],
   "source": [
    "np.identity(5).astype(int)"
   ]
  },
  {
   "cell_type": "code",
   "execution_count": 29,
   "metadata": {},
   "outputs": [
    {
     "data": {
      "text/plain": [
       "(5, 4)"
      ]
     },
     "execution_count": 29,
     "metadata": {},
     "output_type": "execute_result"
    }
   ],
   "source": [
    "_.shape"
   ]
  },
  {
   "cell_type": "markdown",
   "metadata": {},
   "source": [
    "Si la función recibe como argumento `shape`, debemos pasarle el número de filas y columnas como una tupla (es decir, encerrado entre paréntesis)."
   ]
  },
  {
   "cell_type": "code",
   "execution_count": 25,
   "metadata": {},
   "outputs": [
    {
     "data": {
      "text/plain": [
       "array([[ 0.,  0.,  0.,  0.],\n",
       "       [ 0.,  0.,  0.,  0.],\n",
       "       [ 0.,  0.,  0.,  0.]])"
      ]
     },
     "execution_count": 25,
     "metadata": {},
     "output_type": "execute_result"
    }
   ],
   "source": [
    "np.zeros((3, 4))"
   ]
  },
  {
   "cell_type": "markdown",
   "metadata": {},
   "source": [
    "<div class=\"alert alert-warning\">**Nota**: Un error muy típico es tratar de construir un array llamando a la función con dos argumentos, como se ejemplifica en la celda siguiente. Esto produce un error, porque NumPy espera un solo argumento: una tupla con el número de filas y el número de columnas. Es conveniente asegurarse de cuál es el convenio en cada caso porque no siempre hay consistencia interna.</div>"
   ]
  },
  {
   "cell_type": "code",
   "execution_count": 26,
   "metadata": {},
   "outputs": [
    {
     "ename": "TypeError",
     "evalue": "data type not understood",
     "output_type": "error",
     "traceback": [
      "\u001b[1;31m---------------------------------------------------------------------------\u001b[0m\n\u001b[1;31mTypeError\u001b[0m                                 Traceback (most recent call last)",
      "\u001b[1;32m<ipython-input-26-06beb765944a>\u001b[0m in \u001b[0;36m<module>\u001b[1;34m()\u001b[0m\n\u001b[1;32m----> 1\u001b[1;33m \u001b[0mnp\u001b[0m\u001b[1;33m.\u001b[0m\u001b[0mzeros\u001b[0m\u001b[1;33m(\u001b[0m\u001b[1;36m3\u001b[0m\u001b[1;33m,\u001b[0m \u001b[1;36m4\u001b[0m\u001b[1;33m)\u001b[0m\u001b[1;33m\u001b[0m\u001b[0m\n\u001b[0m",
      "\u001b[1;31mTypeError\u001b[0m: data type not understood"
     ]
    }
   ],
   "source": [
    "np.zeros(3, 4)"
   ]
  },
  {
   "cell_type": "code",
   "execution_count": 27,
   "metadata": {},
   "outputs": [
    {
     "data": {
      "text/plain": [
       "array([[ 1.,  1.,  1.,  1.],\n",
       "       [ 1.,  1.,  1.,  1.],\n",
       "       [ 1.,  1.,  1.,  1.]])"
      ]
     },
     "execution_count": 27,
     "metadata": {},
     "output_type": "execute_result"
    }
   ],
   "source": [
    "np.ones((3, 4))"
   ]
  },
  {
   "cell_type": "code",
   "execution_count": 28,
   "metadata": {},
   "outputs": [
    {
     "data": {
      "text/plain": [
       "array([[ 1.,  0.,  0.],\n",
       "       [ 0.,  1.,  0.],\n",
       "       [ 0.,  0.,  1.]])"
      ]
     },
     "execution_count": 28,
     "metadata": {},
     "output_type": "execute_result"
    }
   ],
   "source": [
    "i3 = np.identity(3)\n",
    "i3"
   ]
  },
  {
   "cell_type": "code",
   "execution_count": 29,
   "metadata": {},
   "outputs": [
    {
     "data": {
      "text/plain": [
       "(3, 3)"
      ]
     },
     "execution_count": 29,
     "metadata": {},
     "output_type": "execute_result"
    }
   ],
   "source": [
    "i3.shape"
   ]
  },
  {
   "cell_type": "code",
   "execution_count": 30,
   "metadata": {},
   "outputs": [
    {
     "data": {
      "text/plain": [
       "array([[ 1.,  1.,  1.],\n",
       "       [ 1.,  1.,  1.],\n",
       "       [ 1.,  1.,  1.]])"
      ]
     },
     "execution_count": 30,
     "metadata": {},
     "output_type": "execute_result"
    }
   ],
   "source": [
    "np.ones(i3.shape)"
   ]
  },
  {
   "cell_type": "markdown",
   "metadata": {},
   "source": [
    "Si en lugar de pasar directamente la forma del array ya sabemos que queremos crear un array con la misma forma que otro, podemos usar las funciones `*_like`, que reciben un array en vez de una tupla."
   ]
  },
  {
   "cell_type": "code",
   "execution_count": 31,
   "metadata": {},
   "outputs": [
    {
     "data": {
      "text/plain": [
       "array([[ 1.,  1.,  1.],\n",
       "       [ 1.,  1.,  1.],\n",
       "       [ 1.,  1.,  1.]])"
      ]
     },
     "execution_count": 31,
     "metadata": {},
     "output_type": "execute_result"
    }
   ],
   "source": [
    "np.ones_like(i3)"
   ]
  },
  {
   "cell_type": "markdown",
   "metadata": {
    "slideshow": {
     "slide_type": "slide"
    }
   },
   "source": [
    "### Rangos\n",
    "\n",
    "* `linspace(start, stop, num=50)` devuelve números equiespaciados dentro de un intervalo\n",
    "* `logspace(start, stop, num=50, base=10.0)` devuelve números equiespaciados según una escala logarítmica\n",
    "* `meshgrid(x1, x2, ...)` devuelve matrices de n-coordenadas"
   ]
  },
  {
   "cell_type": "code",
   "execution_count": 32,
   "metadata": {},
   "outputs": [
    {
     "data": {
      "text/plain": [
       "array([ 0.        ,  0.11111111,  0.22222222,  0.33333333,  0.44444444,\n",
       "        0.55555556,  0.66666667,  0.77777778,  0.88888889,  1.        ])"
      ]
     },
     "execution_count": 32,
     "metadata": {},
     "output_type": "execute_result"
    }
   ],
   "source": [
    "np.linspace(0, 1, num=10)"
   ]
  },
  {
   "cell_type": "code",
   "execution_count": 33,
   "metadata": {},
   "outputs": [
    {
     "data": {
      "text/plain": [
       "array([    1.        ,     1.1513954 ,     1.32571137,     1.52641797,\n",
       "           1.75751062,     2.02358965,     2.32995181,     2.6826958 ,\n",
       "           3.0888436 ,     3.55648031,     4.09491506,     4.71486636,\n",
       "           5.42867544,     6.25055193,     7.19685673,     8.28642773,\n",
       "           9.54095476,    10.98541142,    12.64855217,    14.56348478,\n",
       "          16.76832937,    19.30697729,    22.22996483,    25.59547923,\n",
       "          29.47051703,    33.93221772,    39.06939937,    44.98432669,\n",
       "          51.79474679,    59.63623317,    68.6648845 ,    79.06043211,\n",
       "          91.0298178 ,   104.81131342,   120.67926406,   138.94954944,\n",
       "         159.98587196,   184.20699693,   212.09508879,   244.20530945,\n",
       "         281.1768698 ,   323.74575428,   372.75937203,   429.19342601,\n",
       "         494.17133613,   568.9866029 ,   655.12855686,   754.31200634,\n",
       "         868.51137375,  1000.        ])"
      ]
     },
     "execution_count": 33,
     "metadata": {},
     "output_type": "execute_result"
    }
   ],
   "source": [
    "np.logspace(0, 3)"
   ]
  },
  {
   "cell_type": "markdown",
   "metadata": {},
   "source": [
    "La función `np.meshgrid` se utiliza mucho a la hora de representar funciones en dos dimensiones, y crea dos arrays: uno varía por filas y otro por columnas. Combinándolos, podemos evaluar la función en un cuadrado."
   ]
  },
  {
   "cell_type": "code",
   "execution_count": 37,
   "metadata": {},
   "outputs": [],
   "source": [
    "x = np.linspace(0, 1, num=5)\n",
    "y = np.linspace(0, 1, num=5)\n",
    "\n",
    "xx, yy = np.meshgrid(x, y)"
   ]
  },
  {
   "cell_type": "code",
   "execution_count": 38,
   "metadata": {},
   "outputs": [
    {
     "data": {
      "text/plain": [
       "(array([[ 0.  ,  0.25,  0.5 ,  0.75,  1.  ],\n",
       "       [ 0.  ,  0.25,  0.5 ,  0.75,  1.  ],\n",
       "       [ 0.  ,  0.25,  0.5 ,  0.75,  1.  ],\n",
       "       [ 0.  ,  0.25,  0.5 ,  0.75,  1.  ],\n",
       "       [ 0.  ,  0.25,  0.5 ,  0.75,  1.  ]]),\n",
       " array([[ 0.  ,  0.  ,  0.  ,  0.  ,  0.  ],\n",
       "       [ 0.25,  0.25,  0.25,  0.25,  0.25],\n",
       "       [ 0.5 ,  0.5 ,  0.5 ,  0.5 ,  0.5 ],\n",
       "       [ 0.75,  0.75,  0.75,  0.75,  0.75],\n",
       "       [ 1.  ,  1.  ,  1.  ,  1.  ,  1.  ]]))"
      ]
     },
     "execution_count": 38,
     "metadata": {},
     "output_type": "execute_result"
    }
   ],
   "source": [
    "xx, yy"
   ]
  },
  {
   "cell_type": "code",
   "execution_count": 39,
   "metadata": {},
   "outputs": [
    {
     "data": {
      "text/plain": [
       "array([[ 0.00+0.j  ,  0.25+0.j  ,  0.50+0.j  ,  0.75+0.j  ,  1.00+0.j  ],\n",
       "       [ 0.00+0.25j,  0.25+0.25j,  0.50+0.25j,  0.75+0.25j,  1.00+0.25j],\n",
       "       [ 0.00+0.5j ,  0.25+0.5j ,  0.50+0.5j ,  0.75+0.5j ,  1.00+0.5j ],\n",
       "       [ 0.00+0.75j,  0.25+0.75j,  0.50+0.75j,  0.75+0.75j,  1.00+0.75j],\n",
       "       [ 0.00+1.j  ,  0.25+1.j  ,  0.50+1.j  ,  0.75+1.j  ,  1.00+1.j  ]])"
      ]
     },
     "execution_count": 39,
     "metadata": {},
     "output_type": "execute_result"
    }
   ],
   "source": [
    "xx + 1j * yy"
   ]
  },
  {
   "cell_type": "markdown",
   "metadata": {
    "slideshow": {
     "slide_type": "slide"
    }
   },
   "source": [
    "## Operaciones con arrays\n",
    "\n",
    "Las **funciones universales** (`ufunc`) operan sobre arrays de NumPy elemento a elemento y siguiendo las reglas de _broadcasting_.\n",
    "\n",
    "* Funciones matemáticas: `sin`, `cos`, `sqrt`, `exp`, ...\n",
    "* Operaciones lógicas: `<`, `~`, ...\n",
    "* Funciones lógicas: `all`, `any`, `isnan`, `allclose`, ..."
   ]
  },
  {
   "cell_type": "markdown",
   "metadata": {
    "slideshow": {
     "slide_type": "fragment"
    }
   },
   "source": [
    "<div class=\"alert alert-warning\">**Nota**: Las funciones matemáticas siempre devuelven el mismo tipo de datos de entrada</div>"
   ]
  },
  {
   "cell_type": "code",
   "execution_count": 40,
   "metadata": {},
   "outputs": [
    {
     "data": {
      "text/plain": [
       "array([[0, 1, 2],\n",
       "       [3, 4, 5]])"
      ]
     },
     "execution_count": 40,
     "metadata": {},
     "output_type": "execute_result"
    }
   ],
   "source": [
    "a = np.arange(2 * 3).reshape(2, 3)\n",
    "a"
   ]
  },
  {
   "cell_type": "code",
   "execution_count": 41,
   "metadata": {},
   "outputs": [
    {
     "data": {
      "text/plain": [
       "array([[ 0.        ,  1.        ,  1.41421356],\n",
       "       [ 1.73205081,  2.        ,  2.23606798]])"
      ]
     },
     "execution_count": 41,
     "metadata": {},
     "output_type": "execute_result"
    }
   ],
   "source": [
    "np.sqrt(a)"
   ]
  },
  {
   "cell_type": "code",
   "execution_count": 42,
   "metadata": {},
   "outputs": [
    {
     "name": "stderr",
     "output_type": "stream",
     "text": [
      "-c:1: RuntimeWarning: invalid value encountered in sqrt\n"
     ]
    },
    {
     "data": {
      "text/plain": [
       "array([        nan,         nan,         nan,  0.        ,  1.        ,\n",
       "        1.41421356])"
      ]
     },
     "execution_count": 42,
     "metadata": {},
     "output_type": "execute_result"
    }
   ],
   "source": [
    "np.sqrt(np.arange(-3, 3))"
   ]
  },
  {
   "cell_type": "code",
   "execution_count": 43,
   "metadata": {},
   "outputs": [
    {
     "data": {
      "text/plain": [
       "array([-3.+0.j, -2.+0.j, -1.+0.j,  0.+0.j,  1.+0.j,  2.+0.j])"
      ]
     },
     "execution_count": 43,
     "metadata": {},
     "output_type": "execute_result"
    }
   ],
   "source": [
    "np.arange(-3, 3).astype(complex)"
   ]
  },
  {
   "cell_type": "code",
   "execution_count": 44,
   "metadata": {},
   "outputs": [
    {
     "data": {
      "text/plain": [
       "array([ 0.00000000+1.73205081j,  0.00000000+1.41421356j,\n",
       "        0.00000000+1.j        ,  0.00000000+0.j        ,\n",
       "        1.00000000+0.j        ,  1.41421356+0.j        ])"
      ]
     },
     "execution_count": 44,
     "metadata": {},
     "output_type": "execute_result"
    }
   ],
   "source": [
    "np.sqrt(_)"
   ]
  },
  {
   "cell_type": "markdown",
   "metadata": {
    "slideshow": {
     "slide_type": "slide"
    }
   },
   "source": [
    "### Funciones de comparación\n",
    "\n",
    "Las comparaciones devuelven un array de booleanos:"
   ]
  },
  {
   "cell_type": "code",
   "execution_count": 45,
   "metadata": {},
   "outputs": [
    {
     "data": {
      "text/plain": [
       "(array([0, 1, 2, 3, 4, 5]), array([1, 1, 1, 1, 1, 1]))"
      ]
     },
     "execution_count": 45,
     "metadata": {},
     "output_type": "execute_result"
    }
   ],
   "source": [
    "a = np.arange(6)\n",
    "b = np.ones(6).astype(int)\n",
    "a, b"
   ]
  },
  {
   "cell_type": "code",
   "execution_count": 46,
   "metadata": {},
   "outputs": [
    {
     "data": {
      "text/plain": [
       "array([ True, False, False, False, False, False], dtype=bool)"
      ]
     },
     "execution_count": 46,
     "metadata": {},
     "output_type": "execute_result"
    }
   ],
   "source": [
    "a < b"
   ]
  },
  {
   "cell_type": "code",
   "execution_count": 47,
   "metadata": {},
   "outputs": [
    {
     "data": {
      "text/plain": [
       "True"
      ]
     },
     "execution_count": 47,
     "metadata": {},
     "output_type": "execute_result"
    }
   ],
   "source": [
    "np.any(a < b)"
   ]
  },
  {
   "cell_type": "code",
   "execution_count": 48,
   "metadata": {},
   "outputs": [
    {
     "data": {
      "text/plain": [
       "False"
      ]
     },
     "execution_count": 48,
     "metadata": {},
     "output_type": "execute_result"
    }
   ],
   "source": [
    "np.all(a < b)"
   ]
  },
  {
   "cell_type": "code",
   "execution_count": 49,
   "metadata": {},
   "outputs": [
    {
     "data": {
      "text/plain": [
       "(array([ 0.,  1.,  2.,  3.,  4.,  5.]), array([ 1.,  1.,  1.,  1.,  1.,  1.]))"
      ]
     },
     "execution_count": 49,
     "metadata": {},
     "output_type": "execute_result"
    }
   ],
   "source": [
    "a = np.arange(6).astype(float)\n",
    "b = np.ones(6)\n",
    "a, b"
   ]
  },
  {
   "cell_type": "markdown",
   "metadata": {},
   "source": [
    "Las funciones `isclose` y `allclose` realizan comparaciones entre arrays especificando una tolerancia:"
   ]
  },
  {
   "cell_type": "code",
   "execution_count": 50,
   "metadata": {},
   "outputs": [
    {
     "data": {
      "text/plain": [
       "array([False,  True, False, False, False, False], dtype=bool)"
      ]
     },
     "execution_count": 50,
     "metadata": {},
     "output_type": "execute_result"
    }
   ],
   "source": [
    "np.isclose(a, b, rtol=1e-6)"
   ]
  },
  {
   "cell_type": "code",
   "execution_count": 51,
   "metadata": {},
   "outputs": [
    {
     "data": {
      "text/plain": [
       "False"
      ]
     },
     "execution_count": 51,
     "metadata": {},
     "output_type": "execute_result"
    }
   ],
   "source": [
    "np.allclose(a, b, rtol=1e-6)"
   ]
  },
  {
   "cell_type": "markdown",
   "metadata": {},
   "source": [
    "<div class=\"alert alert-error\">**¡Importante!** Ni en Python ni en ningún otro lenguaje debemos hacer comparaciones exactas entre números de punto flotante. Las operaciones matemáticas con estos números producen casi siempre resultados poco intuitivos y hay que tener cuidado con ellas. Para una introducción a estas peculiaridades existe la web http://puntoflotante.org/. </div>"
   ]
  },
  {
   "cell_type": "code",
   "execution_count": 52,
   "metadata": {},
   "outputs": [
    {
     "data": {
      "text/plain": [
       "0.6000000000000001"
      ]
     },
     "execution_count": 52,
     "metadata": {},
     "output_type": "execute_result"
    }
   ],
   "source": [
    "0.1 + 0.2 + 0.3"
   ]
  },
  {
   "cell_type": "code",
   "execution_count": 53,
   "metadata": {},
   "outputs": [
    {
     "data": {
      "text/plain": [
       "0.6"
      ]
     },
     "execution_count": 53,
     "metadata": {},
     "output_type": "execute_result"
    }
   ],
   "source": [
    "0.3 + 0.2 + 0.1"
   ]
  },
  {
   "cell_type": "code",
   "execution_count": 54,
   "metadata": {},
   "outputs": [
    {
     "data": {
      "text/plain": [
       "False"
      ]
     },
     "execution_count": 54,
     "metadata": {},
     "output_type": "execute_result"
    }
   ],
   "source": [
    "0.1 + 0.2 + 0.3 == 0.3 + 0.2 + 0.1"
   ]
  },
  {
   "cell_type": "markdown",
   "metadata": {
    "slideshow": {
     "slide_type": "slide"
    }
   },
   "source": [
    "# Ejercicios"
   ]
  },
  {
   "cell_type": "markdown",
   "metadata": {
    "slideshow": {
     "slide_type": "slide"
    }
   },
   "source": [
    "### Ejercicio 1.\n",
    "\n",
    "1. Crear un array `z1` 3x4 lleno de ceros de tipo entero.\n",
    "2. Crear un array `z2` 3x4 lleno de ceros salvo la primera fila que serán todo unos.\n",
    "3. Crear un array `z3` 3x4 lleno de ceros salvo la última fila que será el rango entre 5 y 8."
   ]
  },
  {
   "cell_type": "code",
   "execution_count": 55,
   "metadata": {},
   "outputs": [
    {
     "data": {
      "text/plain": [
       "array([[ 0.,  0.,  0.,  0.],\n",
       "       [ 0.,  0.,  0.,  0.],\n",
       "       [ 0.,  0.,  0.,  0.]])"
      ]
     },
     "execution_count": 55,
     "metadata": {},
     "output_type": "execute_result"
    }
   ],
   "source": [
    "Z1 = np.zeros((3, 4))\n",
    "Z1"
   ]
  },
  {
   "cell_type": "code",
   "execution_count": 56,
   "metadata": {},
   "outputs": [
    {
     "data": {
      "text/plain": [
       "array([[ 1.,  1.,  1.,  1.],\n",
       "       [ 0.,  0.,  0.,  0.],\n",
       "       [ 0.,  0.,  0.,  0.]])"
      ]
     },
     "execution_count": 56,
     "metadata": {},
     "output_type": "execute_result"
    }
   ],
   "source": [
    "Z1[0, :] = 1\n",
    "Z1"
   ]
  },
  {
   "cell_type": "code",
   "execution_count": 31,
   "metadata": {},
   "outputs": [
    {
     "data": {
      "text/plain": [
       "array([[0., 0., 0., 0.],\n",
       "       [0., 0., 0., 0.],\n",
       "       [5., 6., 7., 8.]])"
      ]
     },
     "execution_count": 31,
     "metadata": {},
     "output_type": "execute_result"
    }
   ],
   "source": [
    "Z2 = np.zeros((3, 4))\n",
    "Z2[-1] = np.arange(5, 9)\n",
    "Z2"
   ]
  },
  {
   "cell_type": "markdown",
   "metadata": {
    "slideshow": {
     "slide_type": "slide"
    }
   },
   "source": [
    "### Ejercicio 2.\n",
    "\n",
    "1. Crea un vector de 10 elementos, siendo los impares unos y los pares doses.\n",
    "2. Crea un «tablero de ajedrez», con unos en las casillas negras y ceros en las blancas."
   ]
  },
  {
   "cell_type": "markdown",
   "metadata": {},
   "source": [
    "**1**"
   ]
  },
  {
   "cell_type": "code",
   "execution_count": 58,
   "metadata": {},
   "outputs": [
    {
     "data": {
      "text/plain": [
       "array([ 1.,  1.,  1.,  1.,  1.,  1.,  1.,  1.,  1.,  1.])"
      ]
     },
     "execution_count": 58,
     "metadata": {},
     "output_type": "execute_result"
    }
   ],
   "source": [
    "v = np.ones(10)\n",
    "v"
   ]
  },
  {
   "cell_type": "code",
   "execution_count": 59,
   "metadata": {},
   "outputs": [
    {
     "data": {
      "text/plain": [
       "array([ 2.,  1.,  2.,  1.,  2.,  1.,  2.,  1.,  2.,  1.])"
      ]
     },
     "execution_count": 59,
     "metadata": {},
     "output_type": "execute_result"
    }
   ],
   "source": [
    "v[::2] = 2\n",
    "v"
   ]
  },
  {
   "cell_type": "markdown",
   "metadata": {},
   "source": [
    "**2**"
   ]
  },
  {
   "cell_type": "code",
   "execution_count": 60,
   "metadata": {},
   "outputs": [
    {
     "data": {
      "text/plain": [
       "array([[ 0.,  0.,  0.,  0.,  0.,  0.,  0.,  0.],\n",
       "       [ 0.,  0.,  0.,  0.,  0.,  0.,  0.,  0.],\n",
       "       [ 0.,  0.,  0.,  0.,  0.,  0.,  0.,  0.],\n",
       "       [ 0.,  0.,  0.,  0.,  0.,  0.,  0.,  0.],\n",
       "       [ 0.,  0.,  0.,  0.,  0.,  0.,  0.,  0.],\n",
       "       [ 0.,  0.,  0.,  0.,  0.,  0.,  0.,  0.],\n",
       "       [ 0.,  0.,  0.,  0.,  0.,  0.,  0.,  0.],\n",
       "       [ 0.,  0.,  0.,  0.,  0.,  0.,  0.,  0.]])"
      ]
     },
     "execution_count": 60,
     "metadata": {},
     "output_type": "execute_result"
    }
   ],
   "source": [
    "tablero = np.zeros((8, 8))\n",
    "tablero"
   ]
  },
  {
   "cell_type": "code",
   "execution_count": 61,
   "metadata": {},
   "outputs": [
    {
     "data": {
      "text/plain": [
       "array([[ 0.,  1.,  0.,  1.,  0.,  1.,  0.,  1.],\n",
       "       [ 1.,  0.,  1.,  0.,  1.,  0.,  1.,  0.],\n",
       "       [ 0.,  1.,  0.,  1.,  0.,  1.,  0.,  1.],\n",
       "       [ 1.,  0.,  1.,  0.,  1.,  0.,  1.,  0.],\n",
       "       [ 0.,  1.,  0.,  1.,  0.,  1.,  0.,  1.],\n",
       "       [ 1.,  0.,  1.,  0.,  1.,  0.,  1.,  0.],\n",
       "       [ 0.,  1.,  0.,  1.,  0.,  1.,  0.,  1.],\n",
       "       [ 1.,  0.,  1.,  0.,  1.,  0.,  1.,  0.]])"
      ]
     },
     "execution_count": 61,
     "metadata": {},
     "output_type": "execute_result"
    }
   ],
   "source": [
    "tablero[1::2, ::2] = 1\n",
    "tablero[::2, 1::2] = 1\n",
    "tablero"
   ]
  },
  {
   "cell_type": "markdown",
   "metadata": {
    "slideshow": {
     "slide_type": "slide"
    }
   },
   "source": [
    "## Bibliografía\n",
    "\n",
    "* Documentación de NumPy http://docs.scipy.org/doc/numpy\n",
    "* Travis Oliphant, \"Guide to NumPy\" http://csc.ucdavis.edu/~chaos/courses/nlp/Software/NumPyBook.pdf\n",
    "* SciPy Lecture Notes http://scipy-lectures.github.io\n",
    "* Nicolas Rougier, \"100 NumPy exercises\" http://www.loria.fr/~rougier/teaching/numpy.100/index.html"
   ]
  }
 ],
 "metadata": {
  "kernelspec": {
   "display_name": "Python 3",
   "language": "python",
   "name": "python3"
  },
  "language_info": {
   "codemirror_mode": {
    "name": "ipython",
    "version": 3
   },
   "file_extension": ".py",
   "mimetype": "text/x-python",
   "name": "python",
   "nbconvert_exporter": "python",
   "pygments_lexer": "ipython3",
   "version": "3.7.0"
  }
 },
 "nbformat": 4,
 "nbformat_minor": 1
}
