{
 "cells": [
  {
   "cell_type": "markdown",
   "metadata": {},
   "source": [
    " \n",
    "# Strings\n",
    "Se especifica una variable como string con inicio y fin de comillas simples o dobles, pero si se inicia con comillas simples, se termina con comillas simples"
   ]
  },
  {
   "cell_type": "code",
   "execution_count": 1,
   "metadata": {},
   "outputs": [],
   "source": [
    "cadena1 = \"cadenas en Python\"\n",
    "cadena2 = 'otra forma de definir cadenas'"
   ]
  },
  {
   "cell_type": "code",
   "execution_count": 3,
   "metadata": {},
   "outputs": [
    {
     "name": "stdout",
     "output_type": "stream",
     "text": [
      "cadenas en Python\n",
      "otra forma de definir cadenas\n"
     ]
    }
   ],
   "source": [
    "print cadena1\n",
    "print cadena2"
   ]
  },
  {
   "cell_type": "code",
   "execution_count": 4,
   "metadata": {},
   "outputs": [
    {
     "ename": "SyntaxError",
     "evalue": "EOL while scanning string literal (<ipython-input-4-08b98fbfd55f>, line 1)",
     "output_type": "error",
     "traceback": [
      "\u001b[1;36m  File \u001b[1;32m\"<ipython-input-4-08b98fbfd55f>\"\u001b[1;36m, line \u001b[1;32m1\u001b[0m\n\u001b[1;33m    cadena3 = 'definicion equivocada\"\u001b[0m\n\u001b[1;37m                                    ^\u001b[0m\n\u001b[1;31mSyntaxError\u001b[0m\u001b[1;31m:\u001b[0m EOL while scanning string literal\n"
     ]
    }
   ],
   "source": [
    "cadena3 = 'definicion equivocada\""
   ]
  },
  {
   "cell_type": "markdown",
   "metadata": {},
   "source": [
    "Acceso a elementos mediante indices. Se inicia en 0.<br>\n",
    "Los espacios cuentan como caracter. <br>\n",
    "El ultimo: n-1 o -1"
   ]
  },
  {
   "cell_type": "code",
   "execution_count": 5,
   "metadata": {},
   "outputs": [
    {
     "name": "stdout",
     "output_type": "stream",
     "text": [
      "c\n"
     ]
    }
   ],
   "source": [
    "print cadena1[0]"
   ]
  },
  {
   "cell_type": "code",
   "execution_count": 6,
   "metadata": {},
   "outputs": [
    {
     "name": "stdout",
     "output_type": "stream",
     "text": [
      "f\n"
     ]
    }
   ],
   "source": [
    "print cadena2[5]"
   ]
  },
  {
   "cell_type": "code",
   "execution_count": 10,
   "metadata": {},
   "outputs": [
    {
     "name": "stdout",
     "output_type": "stream",
     "text": [
      "cadena1:cadenas en Python, y su último caracter es: n\n"
     ]
    }
   ],
   "source": [
    "print \"cadena1:\" + cadena1 + \", y su último caracter es: \" + cadena1[-1]"
   ]
  },
  {
   "cell_type": "markdown",
   "metadata": {},
   "source": [
    "Para obtener intervalos: string[inicio:fin+1] "
   ]
  },
  {
   "cell_type": "code",
   "execution_count": 11,
   "metadata": {},
   "outputs": [
    {
     "name": "stdout",
     "output_type": "stream",
     "text": [
      "art\n"
     ]
    }
   ],
   "source": [
    "print(\"Martes\"[1:4])"
   ]
  },
  {
   "cell_type": "markdown",
   "metadata": {},
   "source": [
    "Simbolos especiales <br>\n",
    "\\n Agrega un enter <br>\n",
    "\\\\\\ escribe un backslash"
   ]
  },
  {
   "cell_type": "markdown",
   "metadata": {},
   "source": [
    "## Funciones sobre estrings\n",
    "len(string): retorna el largo del string <br>\n",
    "string.upper()<br>\n",
    "string.lower()<br>\n",
    "string.strip(\".\") remover simbolos en los extremos <br>\n",
    "string.replace(viejo, nuevo)<br>"
   ]
  },
  {
   "cell_type": "code",
   "execution_count": 12,
   "metadata": {},
   "outputs": [
    {
     "name": "stdout",
     "output_type": "stream",
     "text": [
      "6\n"
     ]
    }
   ],
   "source": [
    "print(len(\"Martes\"))"
   ]
  },
  {
   "cell_type": "markdown",
   "metadata": {},
   "source": [
    "## ARCHIVOS\n",
    "Abrir <br>\n",
    "a=open(\"archivo.txt\")<br>\n",
    "Parametro: como abrir el archivo<br>\n",
    "\"r\": solo lectura, opción por defecto<br>\n",
    "\"w\": solo escritura<br>\n",
    "leer = a.read()<br>\n",
    "print(leer)//imprime todo el archivo <br>\n",
    ".readline() lee cada linea del archivo, al volver a llamar a readline() seguira imprimiendo la sgte y sgte linea"
   ]
  },
  {
   "cell_type": "code",
   "execution_count": 15,
   "metadata": {},
   "outputs": [
    {
     "name": "stdout",
     "output_type": "stream",
     "text": [
      "aqui leemos el archivo\n",
      "y todo su contenido\n",
      "podemos leerlo línea a línea\n"
     ]
    }
   ],
   "source": [
    "a = open(\"archivo.txt\")\n",
    "leer = a.read()\n",
    "print(leer)\n"
   ]
  },
  {
   "cell_type": "code",
   "execution_count": 40,
   "metadata": {},
   "outputs": [
    {
     "name": "stdout",
     "output_type": "stream",
     "text": [
      "aqui leemos el archivo\n",
      "\n"
     ]
    }
   ],
   "source": [
    "a.close()\n",
    "a = open(\"archivo.txt\")\n",
    "linea = a.readline()\n",
    "print linea"
   ]
  },
  {
   "cell_type": "code",
   "execution_count": 41,
   "metadata": {},
   "outputs": [
    {
     "name": "stdout",
     "output_type": "stream",
     "text": [
      "y todo su contenido\n",
      "\n"
     ]
    }
   ],
   "source": [
    "linea = a.readline()\n",
    "print linea"
   ]
  },
  {
   "cell_type": "code",
   "execution_count": 47,
   "metadata": {},
   "outputs": [
    {
     "name": "stdout",
     "output_type": "stream",
     "text": [
      "aqui leemos el archi\n"
     ]
    }
   ],
   "source": [
    "a.close()\n",
    "a = open(\"archivo.txt\")\n",
    "print a.readline(20)"
   ]
  },
  {
   "cell_type": "markdown",
   "metadata": {},
   "source": [
    "para escribir un archivo abrirlo en modo write<br>\n",
    "si ya existe otro archivo con el mismo nombre sera sobreescrito con lo que yo ponga ahora<br>\n",
    "<br>\n",
    "escritura = open(\"arch.txt\", \"w\")<br>\n",
    "escritura.write\"Esto se quiere escribir \\n en el archivo\")<br>\n",
    "<br>\n",
    "archivo.close()//permite que se guarde el archivo correctamente"
   ]
  },
  {
   "cell_type": "code",
   "execution_count": 61,
   "metadata": {},
   "outputs": [],
   "source": [
    "write = open(\"arch.txt\",\"w\")"
   ]
  },
  {
   "cell_type": "code",
   "execution_count": 62,
   "metadata": {},
   "outputs": [],
   "source": [
    "write.write (\"Esto se quiere escribir \\nen el archivo\")"
   ]
  },
  {
   "cell_type": "code",
   "execution_count": 63,
   "metadata": {},
   "outputs": [],
   "source": [
    "write.close()"
   ]
  },
  {
   "cell_type": "code",
   "execution_count": 64,
   "metadata": {},
   "outputs": [
    {
     "name": "stdout",
     "output_type": "stream",
     "text": [
      "Esto se quiere escribir \n",
      "en el archivo\n"
     ]
    }
   ],
   "source": [
    "b = open(\"arch.txt\")\n",
    "print b.read()"
   ]
  }
 ],
 "metadata": {
  "kernelspec": {
   "display_name": "Python 2",
   "language": "python",
   "name": "python2"
  },
  "language_info": {
   "codemirror_mode": {
    "name": "ipython",
    "version": 2
   },
   "file_extension": ".py",
   "mimetype": "text/x-python",
   "name": "python",
   "nbconvert_exporter": "python",
   "pygments_lexer": "ipython2",
   "version": "2.7.15"
  }
 },
 "nbformat": 4,
 "nbformat_minor": 2
}
