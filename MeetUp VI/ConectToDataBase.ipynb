{
  "nbformat": 4,
  "nbformat_minor": 0,
  "metadata": {
    "colab": {
      "name": "ConectToDataBase.ipynb",
      "version": "0.3.2",
      "provenance": [],
      "collapsed_sections": [],
      "toc_visible": true
    },
    "kernelspec": {
      "display_name": "Python 2",
      "language": "python",
      "name": "python2"
    }
  },
  "cells": [
    {
      "metadata": {
        "id": "uOK0RFMDN4c1",
        "colab_type": "text"
      },
      "cell_type": "markdown",
      "source": [
        "# SQLAlchemy Core\n",
        "\n",
        "Vamos a conectarnos con las bases de datos, SQLAlchemy Core  proporcionar servicios de base de datos a nuestras aplicaciones. SQLAlchemy Core se puede usar con Django o SQLAlchemy ORM, o se puede usar como una solución independiente."
      ]
    },
    {
      "metadata": {
        "id": "qjAEmhliGT5c",
        "colab_type": "code",
        "colab": {}
      },
      "cell_type": "code",
      "source": [
        "from sqlalchemy import MetaData\n",
        "metadata = MetaData()"
      ],
      "execution_count": 0,
      "outputs": []
    },
    {
      "metadata": {
        "id": "2Ib-KMK5GT5y",
        "colab_type": "code",
        "colab": {}
      },
      "cell_type": "code",
      "source": [
        "from datetime import datetime"
      ],
      "execution_count": 0,
      "outputs": []
    },
    {
      "metadata": {
        "id": "N1cAkyiaGT5-",
        "colab_type": "code",
        "colab": {}
      },
      "cell_type": "code",
      "source": [
        "from sqlalchemy import Table, Column, Integer, Numeric, String, ForeignKey, DateTime"
      ],
      "execution_count": 0,
      "outputs": []
    },
    {
      "metadata": {
        "id": "nfUCJNquGT6K",
        "colab_type": "code",
        "colab": {}
      },
      "cell_type": "code",
      "source": [
        "from sqlalchemy import create_engine"
      ],
      "execution_count": 0,
      "outputs": []
    },
    {
      "metadata": {
        "id": "0VL9vr9MGT6R",
        "colab_type": "code",
        "colab": {}
      },
      "cell_type": "code",
      "source": [
        "engine = create_engine('sqlite:///:memory:')"
      ],
      "execution_count": 0,
      "outputs": []
    },
    {
      "metadata": {
        "id": "VFBFeZpwGT6Z",
        "colab_type": "code",
        "colab": {}
      },
      "cell_type": "code",
      "source": [
        "cookies = Table('cookies', metadata,\n",
        "    Column('cookie_id', Integer(), primary_key=True),#1\n",
        "    Column('cookie_name', String(50), index=True),#2\n",
        "    Column('cookie_recipe_url', String(255)),\n",
        "    Column('cookie_sku', String(55)),\n",
        "    Column('quantity', Integer()),\n",
        "    Column('unit_cost', Numeric(12, 2))#3\n",
        ")"
      ],
      "execution_count": 0,
      "outputs": []
    },
    {
      "metadata": {
        "id": "uIxHQ3OXXRrT",
        "colab_type": "text"
      },
      "cell_type": "markdown",
      "source": [
        "\n",
        "\n",
        "1.   Tabla con llave primaria\n",
        "2.   Indexando campo\n",
        "3.   Columna con multiples argumentos, número con 11 dígitos y 2 decimales\n",
        "\n"
      ]
    },
    {
      "metadata": {
        "id": "SmRmUSqIGT6f",
        "colab_type": "code",
        "colab": {}
      },
      "cell_type": "code",
      "source": [
        "users = Table('users', metadata,\n",
        "    Column('user_id', Integer(), primary_key=True),\n",
        "    Column('username', String(15), nullable=False, unique=True),\n",
        "    Column('email_address', String(255), nullable=False),\n",
        "    Column('phone', String(20), nullable=False),\n",
        "    Column('password', String(25), nullable=False),\n",
        "    Column('created_on', DateTime(), default=datetime.now),\n",
        "    Column('updated_on', DateTime(), default=datetime.now, onupdate=datetime.now)\n",
        ")"
      ],
      "execution_count": 0,
      "outputs": []
    },
    {
      "metadata": {
        "id": "P7gdfHzTGT6q",
        "colab_type": "code",
        "colab": {}
      },
      "cell_type": "code",
      "source": [
        "orders = Table('orders', metadata,\n",
        "    Column('order_id', Integer(), primary_key=True),\n",
        "    Column('user_id', ForeignKey('users.user_id')),\n",
        ")\n",
        "\n",
        "line_items = Table('line_items', metadata,\n",
        "    Column('line_items_id', Integer(), primary_key=True),\n",
        "    Column('order_id', ForeignKey('orders.order_id')),\n",
        "    Column('cookie_id', ForeignKey('cookies.cookie_id')),\n",
        "    Column('quantity', Integer()),\n",
        "    Column('extended_cost', Numeric(12, 2))\n",
        ")"
      ],
      "execution_count": 0,
      "outputs": []
    },
    {
      "metadata": {
        "id": "Q9hS-geWGT6x",
        "colab_type": "code",
        "colab": {}
      },
      "cell_type": "code",
      "source": [
        "metadata.create_all(engine)"
      ],
      "execution_count": 0,
      "outputs": []
    },
    {
      "metadata": {
        "id": "U5FRUDN5YPu7",
        "colab_type": "text"
      },
      "cell_type": "markdown",
      "source": [
        "La función *create_engine* retorna una instancia de un *engine*; pero eso no abre una conección hasta que una acción requiera una conecciṕon, por ejemplo un *query*"
      ]
    }
  ]
}